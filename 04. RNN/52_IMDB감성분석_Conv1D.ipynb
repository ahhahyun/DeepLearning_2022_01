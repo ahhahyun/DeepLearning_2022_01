{
  "nbformat": 4,
  "nbformat_minor": 0,
  "metadata": {
    "colab": {
      "name": "52.IMDB감성분석-Conv1D.ipynb",
      "provenance": [],
      "collapsed_sections": []
    },
    "kernelspec": {
      "name": "python3",
      "display_name": "Python 3"
    },
    "language_info": {
      "name": "python"
    },
    "accelerator": "GPU"
  },
  "cells": [
    {
      "cell_type": "markdown",
      "source": [
        "# IMDB 영화 리뷰 감성 분석 - Conv1D"
      ],
      "metadata": {
        "id": "ZSnl-RiK-Twh"
      }
    },
    {
      "cell_type": "code",
      "execution_count": 1,
      "metadata": {
        "id": "1JOwuNHW94EF"
      },
      "outputs": [],
      "source": [
        "import numpy as np\n",
        "import matplotlib.pyplot as plt\n",
        "from tensorflow.keras.datasets import imdb\n",
        "import warnings\n",
        "warnings.filterwarnings('ignore')"
      ]
    },
    {
      "cell_type": "markdown",
      "source": [
        "## Conv1D으로 IMDB 리뷰 감성 분석\n",
        "- 단어 빈도수 : 10,000 (88,584)\n",
        "- 문장의 단어수 : 500 (2,494)\n",
        "- test data중 40%(10,000개)는 검증용으로"
      ],
      "metadata": {
        "id": "9o_oDYOd_juG"
      }
    },
    {
      "cell_type": "code",
      "source": [
        "import tensorflow as tf \n",
        "seed = 2022\n",
        "np.random.seed(seed)\n",
        "tf.random.set_seed(seed)"
      ],
      "metadata": {
        "id": "qAb2I9MRASGo"
      },
      "execution_count": 2,
      "outputs": []
    },
    {
      "cell_type": "code",
      "source": [
        "from tensorflow.keras.models import Sequential, load_model\n",
        "from tensorflow.keras.layers import Embedding, Dense, Dropout\n",
        "from tensorflow.keras.layers import Conv1D, MaxPooling1D, GlobalMaxPooling1D\n",
        "from tensorflow.keras.preprocessing.sequence import pad_sequences\n",
        "from tensorflow.keras.callbacks import ModelCheckpoint, EarlyStopping"
      ],
      "metadata": {
        "id": "GPtqWEKyBOoC"
      },
      "execution_count": 3,
      "outputs": []
    },
    {
      "cell_type": "code",
      "source": [
        "(X_train, y_train), (X_test, y_test) = imdb.load_data(num_words=10000)\n",
        "X_train.shape, X_test.shape, y_train.shape"
      ],
      "metadata": {
        "colab": {
          "base_uri": "https://localhost:8080/"
        },
        "id": "1KM6oKviBW-M",
        "outputId": "e800420a-b0b3-455a-af19-a9cacd6b6374"
      },
      "execution_count": 4,
      "outputs": [
        {
          "output_type": "stream",
          "name": "stdout",
          "text": [
            "Downloading data from https://storage.googleapis.com/tensorflow/tf-keras-datasets/imdb.npz\n",
            "17465344/17464789 [==============================] - 0s 0us/step\n",
            "17473536/17464789 [==============================] - 0s 0us/step\n"
          ]
        },
        {
          "output_type": "execute_result",
          "data": {
            "text/plain": [
              "((25000,), (25000,), (25000,))"
            ]
          },
          "metadata": {},
          "execution_count": 4
        }
      ]
    },
    {
      "cell_type": "code",
      "source": [
        "max_len = 500\n",
        "X_train = pad_sequences(X_train, maxlen=max_len)\n",
        "X_test = pad_sequences(X_test, maxlen=max_len)\n",
        "X_train.shape, X_test.shape"
      ],
      "metadata": {
        "colab": {
          "base_uri": "https://localhost:8080/"
        },
        "id": "SA66YbjSBnyB",
        "outputId": "5741a9a5-3407-48df-d90e-0a0ca9ade584"
      },
      "execution_count": 5,
      "outputs": [
        {
          "output_type": "execute_result",
          "data": {
            "text/plain": [
              "((25000, 500), (25000, 500))"
            ]
          },
          "metadata": {},
          "execution_count": 5
        }
      ]
    },
    {
      "cell_type": "code",
      "source": [
        "from sklearn.model_selection import train_test_split\n",
        "X_test, X_valid, y_test, y_valid = train_test_split(\n",
        "    X_test, y_test, stratify=y_test, test_size=0.4, random_state=seed\n",
        ")\n",
        "\n",
        "X_test.shape, X_valid.shape, y_test.shape, y_valid.shape"
      ],
      "metadata": {
        "colab": {
          "base_uri": "https://localhost:8080/"
        },
        "id": "5ipQAa86DBhR",
        "outputId": "75d210c1-5423-4b9b-8d69-e3ccf695f8d5"
      },
      "execution_count": 6,
      "outputs": [
        {
          "output_type": "execute_result",
          "data": {
            "text/plain": [
              "((15000, 500), (10000, 500), (15000,), (10000,))"
            ]
          },
          "metadata": {},
          "execution_count": 6
        }
      ]
    },
    {
      "cell_type": "markdown",
      "source": [
        "#### Case 1) Conv1D x 2, MaxPooling1D x 2, Dropout, GlobalMaxPooling1D\n",
        "- embedding dim : 100"
      ],
      "metadata": {
        "id": "EDT-98vhB4y6"
      }
    },
    {
      "cell_type": "code",
      "source": [
        "model1 = Sequential([\n",
        "    Embedding(10000, 100, input_length=max_len),\n",
        "    Dropout(0.5),\n",
        "    Conv1D(64, 7, activation='relu'),\n",
        "    MaxPooling1D(7),\n",
        "    Conv1D(64, 5, activation='relu'),\n",
        "    MaxPooling1D(5),\n",
        "    GlobalMaxPooling1D(),\n",
        "    Dense(1, activation='sigmoid')\n",
        "])\n",
        "model1.summary()"
      ],
      "metadata": {
        "colab": {
          "base_uri": "https://localhost:8080/"
        },
        "id": "S32s3H_8CEDz",
        "outputId": "ffffeb04-9aaf-4af7-b2c3-7822c54027d4"
      },
      "execution_count": 7,
      "outputs": [
        {
          "output_type": "stream",
          "name": "stdout",
          "text": [
            "Model: \"sequential\"\n",
            "_________________________________________________________________\n",
            " Layer (type)                Output Shape              Param #   \n",
            "=================================================================\n",
            " embedding (Embedding)       (None, 500, 100)          1000000   \n",
            "                                                                 \n",
            " dropout (Dropout)           (None, 500, 100)          0         \n",
            "                                                                 \n",
            " conv1d (Conv1D)             (None, 494, 64)           44864     \n",
            "                                                                 \n",
            " max_pooling1d (MaxPooling1D  (None, 70, 64)           0         \n",
            " )                                                               \n",
            "                                                                 \n",
            " conv1d_1 (Conv1D)           (None, 66, 64)            20544     \n",
            "                                                                 \n",
            " max_pooling1d_1 (MaxPooling  (None, 13, 64)           0         \n",
            " 1D)                                                             \n",
            "                                                                 \n",
            " global_max_pooling1d (Globa  (None, 64)               0         \n",
            " lMaxPooling1D)                                                  \n",
            "                                                                 \n",
            " dense (Dense)               (None, 1)                 65        \n",
            "                                                                 \n",
            "=================================================================\n",
            "Total params: 1,065,473\n",
            "Trainable params: 1,065,473\n",
            "Non-trainable params: 0\n",
            "_________________________________________________________________\n"
          ]
        }
      ]
    },
    {
      "cell_type": "code",
      "source": [
        "model1.compile('adam', 'binary_crossentropy', ['accuracy'])\n",
        "\n",
        "model_path = 'best-reuters-lstm.h5'\n",
        "mc = ModelCheckpoint(model_path, save_best_only=True, verbose=1)\n",
        "es = EarlyStopping(patience=5)"
      ],
      "metadata": {
        "id": "mBhjINvWCT1b"
      },
      "execution_count": 8,
      "outputs": []
    },
    {
      "cell_type": "code",
      "source": [
        "hist1 = model1.fit(\n",
        "    X_train, y_train, epochs=30, batch_size=128,\n",
        "    validation_data=[X_valid, y_valid],\n",
        "    callbacks=[mc,es]\n",
        ")"
      ],
      "metadata": {
        "colab": {
          "base_uri": "https://localhost:8080/"
        },
        "id": "QTNgXfJHCliK",
        "outputId": "612e23e7-8794-4198-b393-8a03453c7f10"
      },
      "execution_count": 9,
      "outputs": [
        {
          "output_type": "stream",
          "name": "stdout",
          "text": [
            "Epoch 1/30\n",
            "196/196 [==============================] - ETA: 0s - loss: 0.5399 - accuracy: 0.7000\n",
            "Epoch 00001: val_loss improved from inf to 0.35544, saving model to best-reuters-lstm.h5\n",
            "196/196 [==============================] - 18s 18ms/step - loss: 0.5399 - accuracy: 0.7000 - val_loss: 0.3554 - val_accuracy: 0.8421\n",
            "Epoch 2/30\n",
            "193/196 [============================>.] - ETA: 0s - loss: 0.2815 - accuracy: 0.8861\n",
            "Epoch 00002: val_loss improved from 0.35544 to 0.31885, saving model to best-reuters-lstm.h5\n",
            "196/196 [==============================] - 3s 15ms/step - loss: 0.2816 - accuracy: 0.8860 - val_loss: 0.3189 - val_accuracy: 0.8629\n",
            "Epoch 3/30\n",
            "193/196 [============================>.] - ETA: 0s - loss: 0.2072 - accuracy: 0.9202\n",
            "Epoch 00003: val_loss did not improve from 0.31885\n",
            "196/196 [==============================] - 3s 15ms/step - loss: 0.2073 - accuracy: 0.9202 - val_loss: 0.3320 - val_accuracy: 0.8619\n",
            "Epoch 4/30\n",
            "193/196 [============================>.] - ETA: 0s - loss: 0.1547 - accuracy: 0.9417\n",
            "Epoch 00004: val_loss did not improve from 0.31885\n",
            "196/196 [==============================] - 3s 15ms/step - loss: 0.1549 - accuracy: 0.9416 - val_loss: 0.3680 - val_accuracy: 0.8550\n",
            "Epoch 5/30\n",
            "193/196 [============================>.] - ETA: 0s - loss: 0.1181 - accuracy: 0.9558\n",
            "Epoch 00005: val_loss did not improve from 0.31885\n",
            "196/196 [==============================] - 3s 17ms/step - loss: 0.1182 - accuracy: 0.9560 - val_loss: 0.4325 - val_accuracy: 0.8526\n",
            "Epoch 6/30\n",
            "193/196 [============================>.] - ETA: 0s - loss: 0.0879 - accuracy: 0.9681\n",
            "Epoch 00006: val_loss did not improve from 0.31885\n",
            "196/196 [==============================] - 4s 18ms/step - loss: 0.0876 - accuracy: 0.9682 - val_loss: 0.4771 - val_accuracy: 0.8534\n",
            "Epoch 7/30\n",
            "196/196 [==============================] - ETA: 0s - loss: 0.0645 - accuracy: 0.9781\n",
            "Epoch 00007: val_loss did not improve from 0.31885\n",
            "196/196 [==============================] - 4s 21ms/step - loss: 0.0645 - accuracy: 0.9781 - val_loss: 0.5374 - val_accuracy: 0.8479\n"
          ]
        }
      ]
    },
    {
      "cell_type": "code",
      "source": [
        "best_model = load_model(model_path)\n",
        "best_model.evaluate(X_test, y_test)"
      ],
      "metadata": {
        "colab": {
          "base_uri": "https://localhost:8080/"
        },
        "id": "j43DAovBEBgF",
        "outputId": "3efc3e48-391c-4f7b-c291-d3bc849119a2"
      },
      "execution_count": 10,
      "outputs": [
        {
          "output_type": "stream",
          "name": "stdout",
          "text": [
            "469/469 [==============================] - 2s 3ms/step - loss: 0.3163 - accuracy: 0.8660\n"
          ]
        },
        {
          "output_type": "execute_result",
          "data": {
            "text/plain": [
              "[0.31625354290008545, 0.8659999966621399]"
            ]
          },
          "metadata": {},
          "execution_count": 10
        }
      ]
    },
    {
      "cell_type": "markdown",
      "source": [
        "####Case 2) Conv1D + LSTM"
      ],
      "metadata": {
        "id": "11NoxCn7H8DK"
      }
    },
    {
      "cell_type": "code",
      "source": [
        "from tensorflow.keras.layers import LSTM"
      ],
      "metadata": {
        "id": "vIIGLMXDodkp"
      },
      "execution_count": 11,
      "outputs": []
    },
    {
      "cell_type": "code",
      "source": [
        "model2 = Sequential([\n",
        "    Embedding(10000, 100, input_length=max_len),\n",
        "    Dropout(0.5),\n",
        "    Conv1D(64, 5, activation='relu'),\n",
        "    MaxPooling1D(4),\n",
        "    LSTM(100),\n",
        "    Dense(1, activation='sigmoid')\n",
        "])\n",
        "model2.summary()"
      ],
      "metadata": {
        "colab": {
          "base_uri": "https://localhost:8080/"
        },
        "id": "B-q46su8ohif",
        "outputId": "bb254b28-551d-4acb-8a0a-366b24078467"
      },
      "execution_count": 12,
      "outputs": [
        {
          "output_type": "stream",
          "name": "stdout",
          "text": [
            "Model: \"sequential_1\"\n",
            "_________________________________________________________________\n",
            " Layer (type)                Output Shape              Param #   \n",
            "=================================================================\n",
            " embedding_1 (Embedding)     (None, 500, 100)          1000000   \n",
            "                                                                 \n",
            " dropout_1 (Dropout)         (None, 500, 100)          0         \n",
            "                                                                 \n",
            " conv1d_2 (Conv1D)           (None, 496, 64)           32064     \n",
            "                                                                 \n",
            " max_pooling1d_2 (MaxPooling  (None, 124, 64)          0         \n",
            " 1D)                                                             \n",
            "                                                                 \n",
            " lstm (LSTM)                 (None, 100)               66000     \n",
            "                                                                 \n",
            " dense_1 (Dense)             (None, 1)                 101       \n",
            "                                                                 \n",
            "=================================================================\n",
            "Total params: 1,098,165\n",
            "Trainable params: 1,098,165\n",
            "Non-trainable params: 0\n",
            "_________________________________________________________________\n"
          ]
        }
      ]
    },
    {
      "cell_type": "code",
      "source": [
        "model2.compile('adam', 'binary_crossentropy', ['accuracy'])\n",
        "\n",
        "model_path = 'best-imdb-conv1d-lstm.h5'\n",
        "mc = ModelCheckpoint(model_path, save_best_only=True, verbose=1)\n",
        "es = EarlyStopping(patience=5)"
      ],
      "metadata": {
        "id": "Ii8lgLeKou1n"
      },
      "execution_count": 13,
      "outputs": []
    },
    {
      "cell_type": "code",
      "source": [
        "hist2 = model2.fit(\n",
        "    X_train, y_train, epochs=30, batch_size=128,\n",
        "    validation_data=[X_valid, y_valid],\n",
        "    callbacks=[mc,es]\n",
        ")"
      ],
      "metadata": {
        "colab": {
          "base_uri": "https://localhost:8080/"
        },
        "id": "8kcLRq5qo1_B",
        "outputId": "303b0d73-85df-4c56-c535-1524976ccb1b"
      },
      "execution_count": 14,
      "outputs": [
        {
          "output_type": "stream",
          "name": "stdout",
          "text": [
            "Epoch 1/30\n",
            "196/196 [==============================] - ETA: 0s - loss: 0.4297 - accuracy: 0.7855\n",
            "Epoch 00001: val_loss improved from inf to 0.30079, saving model to best-imdb-conv1d-lstm.h5\n",
            "196/196 [==============================] - 7s 25ms/step - loss: 0.4297 - accuracy: 0.7855 - val_loss: 0.3008 - val_accuracy: 0.8708\n",
            "Epoch 2/30\n",
            "195/196 [============================>.] - ETA: 0s - loss: 0.2162 - accuracy: 0.9190\n",
            "Epoch 00002: val_loss improved from 0.30079 to 0.28843, saving model to best-imdb-conv1d-lstm.h5\n",
            "196/196 [==============================] - 4s 22ms/step - loss: 0.2162 - accuracy: 0.9190 - val_loss: 0.2884 - val_accuracy: 0.8801\n",
            "Epoch 3/30\n",
            "196/196 [==============================] - ETA: 0s - loss: 0.1565 - accuracy: 0.9436\n",
            "Epoch 00003: val_loss did not improve from 0.28843\n",
            "196/196 [==============================] - 4s 22ms/step - loss: 0.1565 - accuracy: 0.9436 - val_loss: 0.3169 - val_accuracy: 0.8831\n",
            "Epoch 4/30\n",
            "195/196 [============================>.] - ETA: 0s - loss: 0.1222 - accuracy: 0.9570\n",
            "Epoch 00004: val_loss did not improve from 0.28843\n",
            "196/196 [==============================] - 6s 28ms/step - loss: 0.1222 - accuracy: 0.9570 - val_loss: 0.3263 - val_accuracy: 0.8756\n",
            "Epoch 5/30\n",
            "196/196 [==============================] - ETA: 0s - loss: 0.0980 - accuracy: 0.9662\n",
            "Epoch 00005: val_loss did not improve from 0.28843\n",
            "196/196 [==============================] - 4s 22ms/step - loss: 0.0980 - accuracy: 0.9662 - val_loss: 0.4875 - val_accuracy: 0.8586\n",
            "Epoch 6/30\n",
            "196/196 [==============================] - ETA: 0s - loss: 0.0789 - accuracy: 0.9729\n",
            "Epoch 00006: val_loss did not improve from 0.28843\n",
            "196/196 [==============================] - 4s 22ms/step - loss: 0.0789 - accuracy: 0.9729 - val_loss: 0.4018 - val_accuracy: 0.8697\n",
            "Epoch 7/30\n",
            "196/196 [==============================] - ETA: 0s - loss: 0.0608 - accuracy: 0.9801\n",
            "Epoch 00007: val_loss did not improve from 0.28843\n",
            "196/196 [==============================] - 4s 22ms/step - loss: 0.0608 - accuracy: 0.9801 - val_loss: 0.4865 - val_accuracy: 0.8658\n"
          ]
        }
      ]
    },
    {
      "cell_type": "code",
      "source": [
        "best_model = load_model(model_path)\n",
        "best_model.evaluate(X_test, y_test)"
      ],
      "metadata": {
        "colab": {
          "base_uri": "https://localhost:8080/"
        },
        "id": "7BFVZDxNpEtY",
        "outputId": "45c33fee-bd88-4344-a759-91f3103dd503"
      },
      "execution_count": 15,
      "outputs": [
        {
          "output_type": "stream",
          "name": "stdout",
          "text": [
            "469/469 [==============================] - 3s 6ms/step - loss: 0.2874 - accuracy: 0.8809\n"
          ]
        },
        {
          "output_type": "execute_result",
          "data": {
            "text/plain": [
              "[0.2873953878879547, 0.8809333443641663]"
            ]
          },
          "metadata": {},
          "execution_count": 15
        }
      ]
    },
    {
      "cell_type": "markdown",
      "source": [
        "####Case 3) Conv1D + Dense"
      ],
      "metadata": {
        "id": "Id1NbQKtpYU3"
      }
    },
    {
      "cell_type": "code",
      "source": [
        "model3 = Sequential([\n",
        "    Embedding(10000, 100, input_length=max_len),\n",
        "    Dropout(0.5),\n",
        "    Conv1D(64, 5, activation='relu'),\n",
        "    MaxPooling1D(4),\n",
        "    GlobalMaxPooling1D(),\n",
        "    Dense(100, activation='relu'),\n",
        "    Dense(1, activation='sigmoid')\n",
        "])\n",
        "model3.summary()"
      ],
      "metadata": {
        "colab": {
          "base_uri": "https://localhost:8080/"
        },
        "id": "ilKhsb70pjQF",
        "outputId": "6a37cfb7-1b34-45fb-c2a6-7622a0a38ce5"
      },
      "execution_count": 16,
      "outputs": [
        {
          "output_type": "stream",
          "name": "stdout",
          "text": [
            "Model: \"sequential_2\"\n",
            "_________________________________________________________________\n",
            " Layer (type)                Output Shape              Param #   \n",
            "=================================================================\n",
            " embedding_2 (Embedding)     (None, 500, 100)          1000000   \n",
            "                                                                 \n",
            " dropout_2 (Dropout)         (None, 500, 100)          0         \n",
            "                                                                 \n",
            " conv1d_3 (Conv1D)           (None, 496, 64)           32064     \n",
            "                                                                 \n",
            " max_pooling1d_3 (MaxPooling  (None, 124, 64)          0         \n",
            " 1D)                                                             \n",
            "                                                                 \n",
            " global_max_pooling1d_1 (Glo  (None, 64)               0         \n",
            " balMaxPooling1D)                                                \n",
            "                                                                 \n",
            " dense_2 (Dense)             (None, 100)               6500      \n",
            "                                                                 \n",
            " dense_3 (Dense)             (None, 1)                 101       \n",
            "                                                                 \n",
            "=================================================================\n",
            "Total params: 1,038,665\n",
            "Trainable params: 1,038,665\n",
            "Non-trainable params: 0\n",
            "_________________________________________________________________\n"
          ]
        }
      ]
    },
    {
      "cell_type": "code",
      "source": [
        "model3.compile('adam', 'binary_crossentropy', ['accuracy'])\n",
        "\n",
        "model_path = 'best-imdb-conv1d-fcn.h5'\n",
        "mc = ModelCheckpoint(model_path, save_best_only=True, verbose=1)\n",
        "es = EarlyStopping(patience=5)"
      ],
      "metadata": {
        "id": "WP0IlA3xp-Mi"
      },
      "execution_count": 17,
      "outputs": []
    },
    {
      "cell_type": "code",
      "source": [
        "hist3 = model3.fit(\n",
        "    X_train, y_train, epochs=30, batch_size=128,\n",
        "    validation_data=[X_valid, y_valid],\n",
        "    callbacks=[mc,es]\n",
        ")"
      ],
      "metadata": {
        "colab": {
          "base_uri": "https://localhost:8080/"
        },
        "id": "-9j1krgYqNzM",
        "outputId": "cb352d1a-2368-4b42-b1ce-3ac86dfefc88"
      },
      "execution_count": 18,
      "outputs": [
        {
          "output_type": "stream",
          "name": "stdout",
          "text": [
            "Epoch 1/30\n",
            "196/196 [==============================] - ETA: 0s - loss: 0.5684 - accuracy: 0.6864\n",
            "Epoch 00001: val_loss improved from inf to 0.35787, saving model to best-imdb-conv1d-fcn.h5\n",
            "196/196 [==============================] - 4s 16ms/step - loss: 0.5684 - accuracy: 0.6864 - val_loss: 0.3579 - val_accuracy: 0.8440\n",
            "Epoch 2/30\n",
            "196/196 [==============================] - ETA: 0s - loss: 0.2962 - accuracy: 0.8759\n",
            "Epoch 00002: val_loss improved from 0.35787 to 0.27438, saving model to best-imdb-conv1d-fcn.h5\n",
            "196/196 [==============================] - 3s 14ms/step - loss: 0.2962 - accuracy: 0.8759 - val_loss: 0.2744 - val_accuracy: 0.8846\n",
            "Epoch 3/30\n",
            "195/196 [============================>.] - ETA: 0s - loss: 0.2034 - accuracy: 0.9216\n",
            "Epoch 00003: val_loss improved from 0.27438 to 0.26270, saving model to best-imdb-conv1d-fcn.h5\n",
            "196/196 [==============================] - 3s 14ms/step - loss: 0.2035 - accuracy: 0.9214 - val_loss: 0.2627 - val_accuracy: 0.8920\n",
            "Epoch 4/30\n",
            "192/196 [============================>.] - ETA: 0s - loss: 0.1445 - accuracy: 0.9464\n",
            "Epoch 00004: val_loss did not improve from 0.26270\n",
            "196/196 [==============================] - 3s 14ms/step - loss: 0.1445 - accuracy: 0.9464 - val_loss: 0.2717 - val_accuracy: 0.8944\n",
            "Epoch 5/30\n",
            "196/196 [==============================] - ETA: 0s - loss: 0.1046 - accuracy: 0.9618\n",
            "Epoch 00005: val_loss did not improve from 0.26270\n",
            "196/196 [==============================] - 3s 14ms/step - loss: 0.1046 - accuracy: 0.9618 - val_loss: 0.3044 - val_accuracy: 0.8906\n",
            "Epoch 6/30\n",
            "192/196 [============================>.] - ETA: 0s - loss: 0.0713 - accuracy: 0.9768\n",
            "Epoch 00006: val_loss did not improve from 0.26270\n",
            "196/196 [==============================] - 3s 14ms/step - loss: 0.0714 - accuracy: 0.9768 - val_loss: 0.3244 - val_accuracy: 0.8928\n",
            "Epoch 7/30\n",
            "192/196 [============================>.] - ETA: 0s - loss: 0.0575 - accuracy: 0.9808\n",
            "Epoch 00007: val_loss did not improve from 0.26270\n",
            "196/196 [==============================] - 3s 13ms/step - loss: 0.0574 - accuracy: 0.9809 - val_loss: 0.3542 - val_accuracy: 0.8889\n",
            "Epoch 8/30\n",
            "192/196 [============================>.] - ETA: 0s - loss: 0.0424 - accuracy: 0.9864\n",
            "Epoch 00008: val_loss did not improve from 0.26270\n",
            "196/196 [==============================] - 3s 14ms/step - loss: 0.0423 - accuracy: 0.9863 - val_loss: 0.3747 - val_accuracy: 0.8903\n"
          ]
        }
      ]
    },
    {
      "cell_type": "code",
      "source": [
        "best_model = load_model(model_path)\n",
        "best_model.evaluate(X_test, y_test)"
      ],
      "metadata": {
        "colab": {
          "base_uri": "https://localhost:8080/"
        },
        "id": "r2kZ2XNDqW42",
        "outputId": "6620d7c2-aa4f-47b6-be17-0207b064e56e"
      },
      "execution_count": 19,
      "outputs": [
        {
          "output_type": "stream",
          "name": "stdout",
          "text": [
            "469/469 [==============================] - 1s 3ms/step - loss: 0.2607 - accuracy: 0.8929\n"
          ]
        },
        {
          "output_type": "execute_result",
          "data": {
            "text/plain": [
              "[0.2606642544269562, 0.8928666710853577]"
            ]
          },
          "metadata": {},
          "execution_count": 19
        }
      ]
    },
    {
      "cell_type": "code",
      "source": [
        ""
      ],
      "metadata": {
        "id": "t5BfL5l7qsaz"
      },
      "execution_count": 19,
      "outputs": []
    }
  ]
}