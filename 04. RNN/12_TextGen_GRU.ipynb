{
  "nbformat": 4,
  "nbformat_minor": 0,
  "metadata": {
    "colab": {
      "name": "12.TextGen.GRU.ipynb",
      "provenance": [],
      "collapsed_sections": []
    },
    "kernelspec": {
      "name": "python3",
      "display_name": "Python 3"
    },
    "language_info": {
      "name": "python"
    }
  },
  "cells": [
    {
      "cell_type": "markdown",
      "source": [
        "# GRU를 이용한 텍스트 생성\n",
        "- 데이터 다운로드 : 캐글 New York Times Comments\n",
        "- ArticlesApril2018.csv"
      ],
      "metadata": {
        "id": "ON0g0yPac5Jf"
      }
    },
    {
      "cell_type": "code",
      "source": [
        "from google.colab import files\n",
        "up = files.upload()"
      ],
      "metadata": {
        "colab": {
          "resources": {
            "http://localhost:8080/nbextensions/google.colab/files.js": {
              "data": "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",
              "ok": true,
              "headers": [
                [
                  "content-type",
                  "application/javascript"
                ]
              ],
              "status": 200,
              "status_text": ""
            }
          },
          "base_uri": "https://localhost:8080/",
          "height": 78
        },
        "id": "GkBoM0CkdGfU",
        "outputId": "454c50cb-25b0-4032-f47c-820f4059b885"
      },
      "execution_count": 1,
      "outputs": [
        {
          "output_type": "display_data",
          "data": {
            "text/html": [
              "\n",
              "     <input type=\"file\" id=\"files-11ff7143-251c-4c4b-a518-2d43a7fb74d3\" name=\"files[]\" multiple disabled\n",
              "        style=\"border:none\" />\n",
              "     <output id=\"result-11ff7143-251c-4c4b-a518-2d43a7fb74d3\">\n",
              "      Upload widget is only available when the cell has been executed in the\n",
              "      current browser session. Please rerun this cell to enable.\n",
              "      </output>\n",
              "      <script src=\"/nbextensions/google.colab/files.js\"></script> "
            ],
            "text/plain": [
              "<IPython.core.display.HTML object>"
            ]
          },
          "metadata": {}
        },
        {
          "output_type": "stream",
          "name": "stdout",
          "text": [
            "Saving ArticlesApril2018.csv to ArticlesApril2018.csv\n"
          ]
        }
      ]
    },
    {
      "cell_type": "code",
      "source": [
        "import pandas as pd\n",
        "\n",
        "df = pd.read_csv('ArticlesApril2018.csv', encoding='latin1')\n",
        "df.head(3)"
      ],
      "metadata": {
        "colab": {
          "base_uri": "https://localhost:8080/",
          "height": 468
        },
        "id": "pOrG0PqLdyVX",
        "outputId": "91f3218f-1179-4059-daf7-7314ead05937"
      },
      "execution_count": 2,
      "outputs": [
        {
          "output_type": "execute_result",
          "data": {
            "text/html": [
              "\n",
              "  <div id=\"df-0179d068-3c41-4d03-b1c0-a79168ab5e9e\">\n",
              "    <div class=\"colab-df-container\">\n",
              "      <div>\n",
              "<style scoped>\n",
              "    .dataframe tbody tr th:only-of-type {\n",
              "        vertical-align: middle;\n",
              "    }\n",
              "\n",
              "    .dataframe tbody tr th {\n",
              "        vertical-align: top;\n",
              "    }\n",
              "\n",
              "    .dataframe thead th {\n",
              "        text-align: right;\n",
              "    }\n",
              "</style>\n",
              "<table border=\"1\" class=\"dataframe\">\n",
              "  <thead>\n",
              "    <tr style=\"text-align: right;\">\n",
              "      <th></th>\n",
              "      <th>articleID</th>\n",
              "      <th>articleWordCount</th>\n",
              "      <th>byline</th>\n",
              "      <th>documentType</th>\n",
              "      <th>headline</th>\n",
              "      <th>keywords</th>\n",
              "      <th>multimedia</th>\n",
              "      <th>newDesk</th>\n",
              "      <th>printPage</th>\n",
              "      <th>pubDate</th>\n",
              "      <th>sectionName</th>\n",
              "      <th>snippet</th>\n",
              "      <th>source</th>\n",
              "      <th>typeOfMaterial</th>\n",
              "      <th>webURL</th>\n",
              "    </tr>\n",
              "  </thead>\n",
              "  <tbody>\n",
              "    <tr>\n",
              "      <th>0</th>\n",
              "      <td>5adf6684068401528a2aa69b</td>\n",
              "      <td>781</td>\n",
              "      <td>By JOHN BRANCH</td>\n",
              "      <td>article</td>\n",
              "      <td>Former N.F.L. Cheerleadersâ Settlement Offer...</td>\n",
              "      <td>['Workplace Hazards and Violations', 'Football...</td>\n",
              "      <td>68</td>\n",
              "      <td>Sports</td>\n",
              "      <td>0</td>\n",
              "      <td>2018-04-24 17:16:49</td>\n",
              "      <td>Pro Football</td>\n",
              "      <td>âI understand that they could meet with us, ...</td>\n",
              "      <td>The New York Times</td>\n",
              "      <td>News</td>\n",
              "      <td>https://www.nytimes.com/2018/04/24/sports/foot...</td>\n",
              "    </tr>\n",
              "    <tr>\n",
              "      <th>1</th>\n",
              "      <td>5adf653f068401528a2aa697</td>\n",
              "      <td>656</td>\n",
              "      <td>By LISA FRIEDMAN</td>\n",
              "      <td>article</td>\n",
              "      <td>E.P.A. to Unveil a New Rule. Its Effect: Less ...</td>\n",
              "      <td>['Environmental Protection Agency', 'Pruitt, S...</td>\n",
              "      <td>68</td>\n",
              "      <td>Climate</td>\n",
              "      <td>0</td>\n",
              "      <td>2018-04-24 17:11:21</td>\n",
              "      <td>Unknown</td>\n",
              "      <td>The agency plans to publish a new regulation T...</td>\n",
              "      <td>The New York Times</td>\n",
              "      <td>News</td>\n",
              "      <td>https://www.nytimes.com/2018/04/24/climate/epa...</td>\n",
              "    </tr>\n",
              "    <tr>\n",
              "      <th>2</th>\n",
              "      <td>5adf4626068401528a2aa628</td>\n",
              "      <td>2427</td>\n",
              "      <td>By PETE WELLS</td>\n",
              "      <td>article</td>\n",
              "      <td>The New Noma, Explained</td>\n",
              "      <td>['Restaurants', 'Noma (Copenhagen, Restaurant)...</td>\n",
              "      <td>66</td>\n",
              "      <td>Dining</td>\n",
              "      <td>0</td>\n",
              "      <td>2018-04-24 14:58:44</td>\n",
              "      <td>Unknown</td>\n",
              "      <td>Whatâs it like to eat at the second incarnat...</td>\n",
              "      <td>The New York Times</td>\n",
              "      <td>News</td>\n",
              "      <td>https://www.nytimes.com/2018/04/24/dining/noma...</td>\n",
              "    </tr>\n",
              "  </tbody>\n",
              "</table>\n",
              "</div>\n",
              "      <button class=\"colab-df-convert\" onclick=\"convertToInteractive('df-0179d068-3c41-4d03-b1c0-a79168ab5e9e')\"\n",
              "              title=\"Convert this dataframe to an interactive table.\"\n",
              "              style=\"display:none;\">\n",
              "        \n",
              "  <svg xmlns=\"http://www.w3.org/2000/svg\" height=\"24px\"viewBox=\"0 0 24 24\"\n",
              "       width=\"24px\">\n",
              "    <path d=\"M0 0h24v24H0V0z\" fill=\"none\"/>\n",
              "    <path d=\"M18.56 5.44l.94 2.06.94-2.06 2.06-.94-2.06-.94-.94-2.06-.94 2.06-2.06.94zm-11 1L8.5 8.5l.94-2.06 2.06-.94-2.06-.94L8.5 2.5l-.94 2.06-2.06.94zm10 10l.94 2.06.94-2.06 2.06-.94-2.06-.94-.94-2.06-.94 2.06-2.06.94z\"/><path d=\"M17.41 7.96l-1.37-1.37c-.4-.4-.92-.59-1.43-.59-.52 0-1.04.2-1.43.59L10.3 9.45l-7.72 7.72c-.78.78-.78 2.05 0 2.83L4 21.41c.39.39.9.59 1.41.59.51 0 1.02-.2 1.41-.59l7.78-7.78 2.81-2.81c.8-.78.8-2.07 0-2.86zM5.41 20L4 18.59l7.72-7.72 1.47 1.35L5.41 20z\"/>\n",
              "  </svg>\n",
              "      </button>\n",
              "      \n",
              "  <style>\n",
              "    .colab-df-container {\n",
              "      display:flex;\n",
              "      flex-wrap:wrap;\n",
              "      gap: 12px;\n",
              "    }\n",
              "\n",
              "    .colab-df-convert {\n",
              "      background-color: #E8F0FE;\n",
              "      border: none;\n",
              "      border-radius: 50%;\n",
              "      cursor: pointer;\n",
              "      display: none;\n",
              "      fill: #1967D2;\n",
              "      height: 32px;\n",
              "      padding: 0 0 0 0;\n",
              "      width: 32px;\n",
              "    }\n",
              "\n",
              "    .colab-df-convert:hover {\n",
              "      background-color: #E2EBFA;\n",
              "      box-shadow: 0px 1px 2px rgba(60, 64, 67, 0.3), 0px 1px 3px 1px rgba(60, 64, 67, 0.15);\n",
              "      fill: #174EA6;\n",
              "    }\n",
              "\n",
              "    [theme=dark] .colab-df-convert {\n",
              "      background-color: #3B4455;\n",
              "      fill: #D2E3FC;\n",
              "    }\n",
              "\n",
              "    [theme=dark] .colab-df-convert:hover {\n",
              "      background-color: #434B5C;\n",
              "      box-shadow: 0px 1px 3px 1px rgba(0, 0, 0, 0.15);\n",
              "      filter: drop-shadow(0px 1px 2px rgba(0, 0, 0, 0.3));\n",
              "      fill: #FFFFFF;\n",
              "    }\n",
              "  </style>\n",
              "\n",
              "      <script>\n",
              "        const buttonEl =\n",
              "          document.querySelector('#df-0179d068-3c41-4d03-b1c0-a79168ab5e9e button.colab-df-convert');\n",
              "        buttonEl.style.display =\n",
              "          google.colab.kernel.accessAllowed ? 'block' : 'none';\n",
              "\n",
              "        async function convertToInteractive(key) {\n",
              "          const element = document.querySelector('#df-0179d068-3c41-4d03-b1c0-a79168ab5e9e');\n",
              "          const dataTable =\n",
              "            await google.colab.kernel.invokeFunction('convertToInteractive',\n",
              "                                                     [key], {});\n",
              "          if (!dataTable) return;\n",
              "\n",
              "          const docLinkHtml = 'Like what you see? Visit the ' +\n",
              "            '<a target=\"_blank\" href=https://colab.research.google.com/notebooks/data_table.ipynb>data table notebook</a>'\n",
              "            + ' to learn more about interactive tables.';\n",
              "          element.innerHTML = '';\n",
              "          dataTable['output_type'] = 'display_data';\n",
              "          await google.colab.output.renderOutput(dataTable, element);\n",
              "          const docLink = document.createElement('div');\n",
              "          docLink.innerHTML = docLinkHtml;\n",
              "          element.appendChild(docLink);\n",
              "        }\n",
              "      </script>\n",
              "    </div>\n",
              "  </div>\n",
              "  "
            ],
            "text/plain": [
              "                  articleID  ...                                             webURL\n",
              "0  5adf6684068401528a2aa69b  ...  https://www.nytimes.com/2018/04/24/sports/foot...\n",
              "1  5adf653f068401528a2aa697  ...  https://www.nytimes.com/2018/04/24/climate/epa...\n",
              "2  5adf4626068401528a2aa628  ...  https://www.nytimes.com/2018/04/24/dining/noma...\n",
              "\n",
              "[3 rows x 15 columns]"
            ]
          },
          "metadata": {},
          "execution_count": 2
        }
      ]
    },
    {
      "cell_type": "markdown",
      "source": [
        "- 데이터 전처리: headline 컬럼만 사용"
      ],
      "metadata": {
        "id": "Iaqb9IBeeExE"
      }
    },
    {
      "cell_type": "code",
      "source": [
        "# Null이 있는지 확인\n",
        "\n",
        "df.headline.isnull().sum()"
      ],
      "metadata": {
        "colab": {
          "base_uri": "https://localhost:8080/"
        },
        "id": "WsRsL5mVeJX-",
        "outputId": "bddf0225-2814-4e44-bb94-a59f2e76cb64"
      },
      "execution_count": 3,
      "outputs": [
        {
          "output_type": "execute_result",
          "data": {
            "text/plain": [
              "0"
            ]
          },
          "metadata": {},
          "execution_count": 3
        }
      ]
    },
    {
      "cell_type": "code",
      "source": [
        "# headline 컬럼 : 시리즈 타입 --> 리스트\n",
        "\n",
        "headlines = df.headline.values.tolist()"
      ],
      "metadata": {
        "id": "eskgJVIOeOJp"
      },
      "execution_count": 4,
      "outputs": []
    },
    {
      "cell_type": "code",
      "source": [
        "headlines[:5]"
      ],
      "metadata": {
        "colab": {
          "base_uri": "https://localhost:8080/"
        },
        "id": "oU5QURhdehwF",
        "outputId": "20b582f9-8aa1-4913-fd24-78806d667c34"
      },
      "execution_count": 5,
      "outputs": [
        {
          "output_type": "execute_result",
          "data": {
            "text/plain": [
              "['Former N.F.L. Cheerleadersâ\\x80\\x99 Settlement Offer: $1 and a Meeting With Goodell',\n",
              " 'E.P.A. to Unveil a New Rule. Its Effect: Less Science in Policymaking.',\n",
              " 'The New Noma, Explained',\n",
              " 'Unknown',\n",
              " 'Unknown']"
            ]
          },
          "metadata": {},
          "execution_count": 5
        }
      ]
    },
    {
      "cell_type": "code",
      "source": [
        "len(headlines)"
      ],
      "metadata": {
        "colab": {
          "base_uri": "https://localhost:8080/"
        },
        "id": "wyuYzpDKekOX",
        "outputId": "a56a47fb-27e8-431d-b0f5-b47232c88322"
      },
      "execution_count": 6,
      "outputs": [
        {
          "output_type": "execute_result",
          "data": {
            "text/plain": [
              "1324"
            ]
          },
          "metadata": {},
          "execution_count": 6
        }
      ]
    },
    {
      "cell_type": "code",
      "source": [
        "# 노이즈 데이터('Unknown') 제거\n",
        "\n",
        "headlines = [line for line in df.headline.values if line != 'Unknown']\n",
        "len(headlines)"
      ],
      "metadata": {
        "colab": {
          "base_uri": "https://localhost:8080/"
        },
        "id": "nmFjn-E4eltS",
        "outputId": "82726d34-457b-4af6-b7d4-bb1978335def"
      },
      "execution_count": 7,
      "outputs": [
        {
          "output_type": "execute_result",
          "data": {
            "text/plain": [
              "1214"
            ]
          },
          "metadata": {},
          "execution_count": 7
        }
      ]
    },
    {
      "cell_type": "code",
      "source": [
        "# encoding, 구둣점 제거, 소문자로 변환\n",
        "\n",
        "import re\n",
        "def preprocessing(s):\n",
        "    s = s.encode('utf8').decode('ascii', 'ignore')\n",
        "    s = re.sub('[^A-Za-z0-9 ]', '', s)\n",
        "    return s.lower()"
      ],
      "metadata": {
        "id": "33kVngxMem_6"
      },
      "execution_count": 8,
      "outputs": []
    },
    {
      "cell_type": "code",
      "source": [
        "headlines = [preprocessing(line) for line in headlines]\n",
        "headlines[:5]"
      ],
      "metadata": {
        "colab": {
          "base_uri": "https://localhost:8080/"
        },
        "id": "-bFY6DUZerh8",
        "outputId": "da8ff689-89cc-48c1-846b-88e9ebe3d103"
      },
      "execution_count": 9,
      "outputs": [
        {
          "output_type": "execute_result",
          "data": {
            "text/plain": [
              "['former nfl cheerleaders settlement offer 1 and a meeting with goodell',\n",
              " 'epa to unveil a new rule its effect less science in policymaking',\n",
              " 'the new noma explained',\n",
              " 'how a bag of texas dirt  became a times tradition',\n",
              " 'is school a place for selfexpression']"
            ]
          },
          "metadata": {},
          "execution_count": 9
        }
      ]
    },
    {
      "cell_type": "markdown",
      "source": [
        "- Keras 텍스트 전처리"
      ],
      "metadata": {
        "id": "fs4SvNlYeszl"
      }
    },
    {
      "cell_type": "code",
      "source": [
        "from tensorflow.keras.preprocessing.text import Tokenizer\n",
        "from tensorflow.keras.preprocessing.sequence import pad_sequences\n",
        "from tensorflow.keras.utils import to_categorical"
      ],
      "metadata": {
        "id": "k7ONG7Cmeu2p"
      },
      "execution_count": 10,
      "outputs": []
    },
    {
      "cell_type": "code",
      "source": [
        "# 단어 집합 생성\n",
        "\n",
        "t = Tokenizer()\n",
        "t.fit_on_texts(headlines)"
      ],
      "metadata": {
        "id": "GexPWKFjewDm"
      },
      "execution_count": 11,
      "outputs": []
    },
    {
      "cell_type": "code",
      "source": [
        "# 단어 집합 크기 - Keras Tokenizer의 시작 인덱스가 1이기 때문\n",
        "\n",
        "vocab_size = len(t.word_index) + 1\n",
        "vocab_size"
      ],
      "metadata": {
        "colab": {
          "base_uri": "https://localhost:8080/"
        },
        "id": "tw1ptAjPe9Wn",
        "outputId": "8f9d0f87-6d83-437f-f0a2-0872d014dee1"
      },
      "execution_count": 12,
      "outputs": [
        {
          "output_type": "execute_result",
          "data": {
            "text/plain": [
              "3494"
            ]
          },
          "metadata": {},
          "execution_count": 12
        }
      ]
    },
    {
      "cell_type": "code",
      "source": [
        "sequences = []\n",
        "for line in headlines:\n",
        "    encoded = t.texts_to_sequences([line])[0]\n",
        "    for i in range(1, len(encoded)):\n",
        "        sequences.append(encoded[:i+1])\n",
        "\n",
        "sequences[:11]"
      ],
      "metadata": {
        "colab": {
          "base_uri": "https://localhost:8080/"
        },
        "id": "NPPnMuO0e_IR",
        "outputId": "b630210d-aa7b-4173-a71e-496ddd8d413f"
      },
      "execution_count": 13,
      "outputs": [
        {
          "output_type": "execute_result",
          "data": {
            "text/plain": [
              "[[99, 269],\n",
              " [99, 269, 371],\n",
              " [99, 269, 371, 1115],\n",
              " [99, 269, 371, 1115, 582],\n",
              " [99, 269, 371, 1115, 582, 52],\n",
              " [99, 269, 371, 1115, 582, 52, 7],\n",
              " [99, 269, 371, 1115, 582, 52, 7, 2],\n",
              " [99, 269, 371, 1115, 582, 52, 7, 2, 372],\n",
              " [99, 269, 371, 1115, 582, 52, 7, 2, 372, 10],\n",
              " [99, 269, 371, 1115, 582, 52, 7, 2, 372, 10, 1116],\n",
              " [100, 3]]"
            ]
          },
          "metadata": {},
          "execution_count": 13
        }
      ]
    },
    {
      "cell_type": "code",
      "source": [
        "max_len = max(len(seq) for seq in sequences)\n",
        "max_len"
      ],
      "metadata": {
        "colab": {
          "base_uri": "https://localhost:8080/"
        },
        "id": "up8XHGMLfFTB",
        "outputId": "c5865bdc-e0dd-42da-a69f-f46ce518ef3a"
      },
      "execution_count": 14,
      "outputs": [
        {
          "output_type": "execute_result",
          "data": {
            "text/plain": [
              "24"
            ]
          },
          "metadata": {},
          "execution_count": 14
        }
      ]
    },
    {
      "cell_type": "code",
      "source": [
        "sequences = pad_sequences(sequences, maxlen=max_len, padding='pre')\n",
        "sequences[:3]"
      ],
      "metadata": {
        "colab": {
          "base_uri": "https://localhost:8080/"
        },
        "id": "Bs3cYr72fLR2",
        "outputId": "f18a06af-5de8-4905-8a3a-dc2c2b5ab6fc"
      },
      "execution_count": 15,
      "outputs": [
        {
          "output_type": "execute_result",
          "data": {
            "text/plain": [
              "array([[   0,    0,    0,    0,    0,    0,    0,    0,    0,    0,    0,\n",
              "           0,    0,    0,    0,    0,    0,    0,    0,    0,    0,    0,\n",
              "          99,  269],\n",
              "       [   0,    0,    0,    0,    0,    0,    0,    0,    0,    0,    0,\n",
              "           0,    0,    0,    0,    0,    0,    0,    0,    0,    0,   99,\n",
              "         269,  371],\n",
              "       [   0,    0,    0,    0,    0,    0,    0,    0,    0,    0,    0,\n",
              "           0,    0,    0,    0,    0,    0,    0,    0,    0,   99,  269,\n",
              "         371, 1115]], dtype=int32)"
            ]
          },
          "metadata": {},
          "execution_count": 15
        }
      ]
    },
    {
      "cell_type": "code",
      "source": [
        "X = sequences[:, :-1]\n",
        "y = sequences[:, -1]\n",
        "Y = to_categorical(y)\n",
        "X.shape, Y.shape"
      ],
      "metadata": {
        "colab": {
          "base_uri": "https://localhost:8080/"
        },
        "id": "50gAPqsmfMTU",
        "outputId": "165159bd-77e9-4432-f2fa-de945bd16a81"
      },
      "execution_count": 16,
      "outputs": [
        {
          "output_type": "execute_result",
          "data": {
            "text/plain": [
              "((7803, 23), (7803, 3494))"
            ]
          },
          "metadata": {},
          "execution_count": 16
        }
      ]
    },
    {
      "cell_type": "markdown",
      "source": [
        "### 모델 정의/설정/학습\n",
        "\n",
        "- Embedding : 10차원\n",
        "- LSTM : 128units"
      ],
      "metadata": {
        "id": "7SElDoYAfN_F"
      }
    },
    {
      "cell_type": "code",
      "source": [
        "import numpy as np\n",
        "import tensorflow as tf\n",
        "seed = 2022\n",
        "np.random.seed(seed)\n",
        "tf.random.set_seed(seed)"
      ],
      "metadata": {
        "id": "neQHE46Bfndt"
      },
      "execution_count": 17,
      "outputs": []
    },
    {
      "cell_type": "code",
      "source": [
        "from tensorflow.keras.models import Sequential\n",
        "from tensorflow.keras.layers import Embedding, GRU, Dense"
      ],
      "metadata": {
        "id": "V1ACHLlNfpnR"
      },
      "execution_count": 18,
      "outputs": []
    },
    {
      "cell_type": "code",
      "source": [
        "model = Sequential([ \n",
        "    Embedding(vocab_size, 10, input_length=max_len-1),\n",
        "    GRU(128),\n",
        "    Dense(vocab_size, activation='softmax')\n",
        "])\n",
        "model.summary()"
      ],
      "metadata": {
        "colab": {
          "base_uri": "https://localhost:8080/"
        },
        "id": "iOfecqsGfq0C",
        "outputId": "30caec33-bc1f-430f-f67c-38556b9efc5c"
      },
      "execution_count": 19,
      "outputs": [
        {
          "output_type": "stream",
          "name": "stdout",
          "text": [
            "Model: \"sequential\"\n",
            "_________________________________________________________________\n",
            " Layer (type)                Output Shape              Param #   \n",
            "=================================================================\n",
            " embedding (Embedding)       (None, 23, 10)            34940     \n",
            "                                                                 \n",
            " gru (GRU)                   (None, 128)               53760     \n",
            "                                                                 \n",
            " dense (Dense)               (None, 3494)              450726    \n",
            "                                                                 \n",
            "=================================================================\n",
            "Total params: 539,426\n",
            "Trainable params: 539,426\n",
            "Non-trainable params: 0\n",
            "_________________________________________________________________\n"
          ]
        }
      ]
    },
    {
      "cell_type": "code",
      "source": [
        "model.compile('adam', 'categorical_crossentropy', metrics=['accuracy'])"
      ],
      "metadata": {
        "id": "S1J3h_qFfsaM"
      },
      "execution_count": 20,
      "outputs": []
    },
    {
      "cell_type": "code",
      "source": [
        " # Colab, GPU 환경\n",
        "%time hist = model.fit(X, Y, epochs=200, verbose=2)\n",
        "# 저장할 때는 출력을 지움"
      ],
      "metadata": {
        "id": "MSedMPW6fvBx",
        "colab": {
          "base_uri": "https://localhost:8080/"
        },
        "outputId": "f77dc96a-4b80-4872-c311-88f3fea277b6"
      },
      "execution_count": 21,
      "outputs": [
        {
          "output_type": "stream",
          "name": "stdout",
          "text": [
            "Epoch 1/200\n",
            "244/244 - 6s - loss: 7.6739 - accuracy: 0.0313 - 6s/epoch - 26ms/step\n",
            "Epoch 2/200\n",
            "244/244 - 1s - loss: 7.1200 - accuracy: 0.0310 - 1s/epoch - 5ms/step\n",
            "Epoch 3/200\n",
            "244/244 - 1s - loss: 6.8994 - accuracy: 0.0459 - 1s/epoch - 5ms/step\n",
            "Epoch 4/200\n",
            "244/244 - 1s - loss: 6.6773 - accuracy: 0.0487 - 1s/epoch - 4ms/step\n",
            "Epoch 5/200\n",
            "244/244 - 1s - loss: 6.4414 - accuracy: 0.0532 - 1s/epoch - 5ms/step\n",
            "Epoch 6/200\n",
            "244/244 - 1s - loss: 6.1864 - accuracy: 0.0600 - 1s/epoch - 5ms/step\n",
            "Epoch 7/200\n",
            "244/244 - 1s - loss: 5.9170 - accuracy: 0.0614 - 1s/epoch - 5ms/step\n",
            "Epoch 8/200\n",
            "244/244 - 1s - loss: 5.6362 - accuracy: 0.0695 - 1s/epoch - 5ms/step\n",
            "Epoch 9/200\n",
            "244/244 - 1s - loss: 5.3645 - accuracy: 0.0763 - 1s/epoch - 5ms/step\n",
            "Epoch 10/200\n",
            "244/244 - 1s - loss: 5.1040 - accuracy: 0.0830 - 1s/epoch - 5ms/step\n",
            "Epoch 11/200\n",
            "244/244 - 1s - loss: 4.8532 - accuracy: 0.0996 - 1s/epoch - 5ms/step\n",
            "Epoch 12/200\n",
            "244/244 - 1s - loss: 4.6134 - accuracy: 0.1224 - 1s/epoch - 4ms/step\n",
            "Epoch 13/200\n",
            "244/244 - 1s - loss: 4.3864 - accuracy: 0.1497 - 1s/epoch - 4ms/step\n",
            "Epoch 14/200\n",
            "244/244 - 1s - loss: 4.1673 - accuracy: 0.1861 - 1s/epoch - 5ms/step\n",
            "Epoch 15/200\n",
            "244/244 - 1s - loss: 3.9604 - accuracy: 0.2172 - 1s/epoch - 5ms/step\n",
            "Epoch 16/200\n",
            "244/244 - 1s - loss: 3.7676 - accuracy: 0.2494 - 1s/epoch - 5ms/step\n",
            "Epoch 17/200\n",
            "244/244 - 1s - loss: 3.5845 - accuracy: 0.2835 - 1s/epoch - 5ms/step\n",
            "Epoch 18/200\n",
            "244/244 - 1s - loss: 3.4083 - accuracy: 0.3154 - 1s/epoch - 5ms/step\n",
            "Epoch 19/200\n",
            "244/244 - 1s - loss: 3.2468 - accuracy: 0.3446 - 1s/epoch - 5ms/step\n",
            "Epoch 20/200\n",
            "244/244 - 1s - loss: 3.0940 - accuracy: 0.3705 - 1s/epoch - 5ms/step\n",
            "Epoch 21/200\n",
            "244/244 - 1s - loss: 2.9548 - accuracy: 0.4011 - 1s/epoch - 5ms/step\n",
            "Epoch 22/200\n",
            "244/244 - 1s - loss: 2.8190 - accuracy: 0.4253 - 1s/epoch - 4ms/step\n",
            "Epoch 23/200\n",
            "244/244 - 1s - loss: 2.6983 - accuracy: 0.4529 - 1s/epoch - 6ms/step\n",
            "Epoch 24/200\n",
            "244/244 - 2s - loss: 2.5801 - accuracy: 0.4779 - 2s/epoch - 6ms/step\n",
            "Epoch 25/200\n",
            "244/244 - 1s - loss: 2.4720 - accuracy: 0.4963 - 1s/epoch - 6ms/step\n",
            "Epoch 26/200\n",
            "244/244 - 1s - loss: 2.3707 - accuracy: 0.5208 - 1s/epoch - 5ms/step\n",
            "Epoch 27/200\n",
            "244/244 - 1s - loss: 2.2702 - accuracy: 0.5339 - 1s/epoch - 4ms/step\n",
            "Epoch 28/200\n",
            "244/244 - 1s - loss: 2.1822 - accuracy: 0.5525 - 1s/epoch - 4ms/step\n",
            "Epoch 29/200\n",
            "244/244 - 1s - loss: 2.0988 - accuracy: 0.5699 - 1s/epoch - 4ms/step\n",
            "Epoch 30/200\n",
            "244/244 - 1s - loss: 2.0197 - accuracy: 0.5826 - 1s/epoch - 4ms/step\n",
            "Epoch 31/200\n",
            "244/244 - 1s - loss: 1.9401 - accuracy: 0.5991 - 1s/epoch - 5ms/step\n",
            "Epoch 32/200\n",
            "244/244 - 1s - loss: 1.8645 - accuracy: 0.6190 - 1s/epoch - 5ms/step\n",
            "Epoch 33/200\n",
            "244/244 - 1s - loss: 1.8007 - accuracy: 0.6305 - 1s/epoch - 5ms/step\n",
            "Epoch 34/200\n",
            "244/244 - 1s - loss: 1.7319 - accuracy: 0.6448 - 1s/epoch - 4ms/step\n",
            "Epoch 35/200\n",
            "244/244 - 1s - loss: 1.6716 - accuracy: 0.6615 - 1s/epoch - 5ms/step\n",
            "Epoch 36/200\n",
            "244/244 - 1s - loss: 1.6136 - accuracy: 0.6726 - 1s/epoch - 5ms/step\n",
            "Epoch 37/200\n",
            "244/244 - 1s - loss: 1.5547 - accuracy: 0.6803 - 1s/epoch - 5ms/step\n",
            "Epoch 38/200\n",
            "244/244 - 1s - loss: 1.5005 - accuracy: 0.6941 - 1s/epoch - 4ms/step\n",
            "Epoch 39/200\n",
            "244/244 - 1s - loss: 1.4522 - accuracy: 0.7056 - 1s/epoch - 4ms/step\n",
            "Epoch 40/200\n",
            "244/244 - 1s - loss: 1.3976 - accuracy: 0.7159 - 1s/epoch - 4ms/step\n",
            "Epoch 41/200\n",
            "244/244 - 1s - loss: 1.3485 - accuracy: 0.7274 - 1s/epoch - 4ms/step\n",
            "Epoch 42/200\n",
            "244/244 - 1s - loss: 1.2981 - accuracy: 0.7388 - 1s/epoch - 5ms/step\n",
            "Epoch 43/200\n",
            "244/244 - 1s - loss: 1.2575 - accuracy: 0.7463 - 1s/epoch - 5ms/step\n",
            "Epoch 44/200\n",
            "244/244 - 1s - loss: 1.2164 - accuracy: 0.7538 - 1s/epoch - 5ms/step\n",
            "Epoch 45/200\n",
            "244/244 - 1s - loss: 1.1784 - accuracy: 0.7616 - 1s/epoch - 5ms/step\n",
            "Epoch 46/200\n",
            "244/244 - 1s - loss: 1.1397 - accuracy: 0.7659 - 1s/epoch - 4ms/step\n",
            "Epoch 47/200\n",
            "244/244 - 1s - loss: 1.0987 - accuracy: 0.7750 - 1s/epoch - 4ms/step\n",
            "Epoch 48/200\n",
            "244/244 - 1s - loss: 1.0616 - accuracy: 0.7838 - 1s/epoch - 5ms/step\n",
            "Epoch 49/200\n",
            "244/244 - 1s - loss: 1.0241 - accuracy: 0.7919 - 1s/epoch - 5ms/step\n",
            "Epoch 50/200\n",
            "244/244 - 1s - loss: 0.9883 - accuracy: 0.7979 - 1s/epoch - 5ms/step\n",
            "Epoch 51/200\n",
            "244/244 - 1s - loss: 0.9562 - accuracy: 0.8014 - 1s/epoch - 4ms/step\n",
            "Epoch 52/200\n",
            "244/244 - 1s - loss: 0.9333 - accuracy: 0.8090 - 1s/epoch - 5ms/step\n",
            "Epoch 53/200\n",
            "244/244 - 1s - loss: 0.8990 - accuracy: 0.8116 - 1s/epoch - 5ms/step\n",
            "Epoch 54/200\n",
            "244/244 - 1s - loss: 0.8693 - accuracy: 0.8217 - 1s/epoch - 5ms/step\n",
            "Epoch 55/200\n",
            "244/244 - 1s - loss: 0.8415 - accuracy: 0.8246 - 1s/epoch - 5ms/step\n",
            "Epoch 56/200\n",
            "244/244 - 1s - loss: 0.8064 - accuracy: 0.8299 - 1s/epoch - 4ms/step\n",
            "Epoch 57/200\n",
            "244/244 - 1s - loss: 0.7823 - accuracy: 0.8352 - 1s/epoch - 4ms/step\n",
            "Epoch 58/200\n",
            "244/244 - 1s - loss: 0.7586 - accuracy: 0.8401 - 1s/epoch - 4ms/step\n",
            "Epoch 59/200\n",
            "244/244 - 1s - loss: 0.7349 - accuracy: 0.8457 - 1s/epoch - 5ms/step\n",
            "Epoch 60/200\n",
            "244/244 - 1s - loss: 0.7149 - accuracy: 0.8492 - 1s/epoch - 5ms/step\n",
            "Epoch 61/200\n",
            "244/244 - 1s - loss: 0.6887 - accuracy: 0.8515 - 1s/epoch - 5ms/step\n",
            "Epoch 62/200\n",
            "244/244 - 1s - loss: 0.6721 - accuracy: 0.8577 - 1s/epoch - 5ms/step\n",
            "Epoch 63/200\n",
            "244/244 - 1s - loss: 0.6534 - accuracy: 0.8606 - 1s/epoch - 4ms/step\n",
            "Epoch 64/200\n",
            "244/244 - 1s - loss: 0.6314 - accuracy: 0.8651 - 1s/epoch - 4ms/step\n",
            "Epoch 65/200\n",
            "244/244 - 1s - loss: 0.6129 - accuracy: 0.8661 - 1s/epoch - 4ms/step\n",
            "Epoch 66/200\n",
            "244/244 - 1s - loss: 0.6032 - accuracy: 0.8681 - 1s/epoch - 4ms/step\n",
            "Epoch 67/200\n",
            "244/244 - 1s - loss: 0.5806 - accuracy: 0.8745 - 1s/epoch - 4ms/step\n",
            "Epoch 68/200\n",
            "244/244 - 1s - loss: 0.5543 - accuracy: 0.8809 - 1s/epoch - 5ms/step\n",
            "Epoch 69/200\n",
            "244/244 - 1s - loss: 0.5442 - accuracy: 0.8822 - 1s/epoch - 4ms/step\n",
            "Epoch 70/200\n",
            "244/244 - 1s - loss: 0.5292 - accuracy: 0.8858 - 1s/epoch - 5ms/step\n",
            "Epoch 71/200\n",
            "244/244 - 1s - loss: 0.5190 - accuracy: 0.8857 - 1s/epoch - 5ms/step\n",
            "Epoch 72/200\n",
            "244/244 - 1s - loss: 0.5042 - accuracy: 0.8907 - 1s/epoch - 4ms/step\n",
            "Epoch 73/200\n",
            "244/244 - 1s - loss: 0.4878 - accuracy: 0.8930 - 1s/epoch - 4ms/step\n",
            "Epoch 74/200\n",
            "244/244 - 1s - loss: 0.4782 - accuracy: 0.8926 - 1s/epoch - 4ms/step\n",
            "Epoch 75/200\n",
            "244/244 - 1s - loss: 0.4725 - accuracy: 0.8932 - 1s/epoch - 4ms/step\n",
            "Epoch 76/200\n",
            "244/244 - 1s - loss: 0.4696 - accuracy: 0.8967 - 1s/epoch - 5ms/step\n",
            "Epoch 77/200\n",
            "244/244 - 1s - loss: 0.4559 - accuracy: 0.8973 - 1s/epoch - 4ms/step\n",
            "Epoch 78/200\n",
            "244/244 - 1s - loss: 0.4420 - accuracy: 0.9000 - 1s/epoch - 5ms/step\n",
            "Epoch 79/200\n",
            "244/244 - 1s - loss: 0.4235 - accuracy: 0.9035 - 1s/epoch - 4ms/step\n",
            "Epoch 80/200\n",
            "244/244 - 1s - loss: 0.4148 - accuracy: 0.9070 - 1s/epoch - 5ms/step\n",
            "Epoch 81/200\n",
            "244/244 - 1s - loss: 0.4098 - accuracy: 0.9036 - 1s/epoch - 4ms/step\n",
            "Epoch 82/200\n",
            "244/244 - 1s - loss: 0.3989 - accuracy: 0.9067 - 1s/epoch - 4ms/step\n",
            "Epoch 83/200\n",
            "244/244 - 1s - loss: 0.3927 - accuracy: 0.9086 - 1s/epoch - 4ms/step\n",
            "Epoch 84/200\n",
            "244/244 - 1s - loss: 0.3881 - accuracy: 0.9099 - 1s/epoch - 4ms/step\n",
            "Epoch 85/200\n",
            "244/244 - 1s - loss: 0.3886 - accuracy: 0.9073 - 1s/epoch - 4ms/step\n",
            "Epoch 86/200\n",
            "244/244 - 1s - loss: 0.3782 - accuracy: 0.9091 - 1s/epoch - 4ms/step\n",
            "Epoch 87/200\n",
            "244/244 - 1s - loss: 0.3762 - accuracy: 0.9084 - 1s/epoch - 4ms/step\n",
            "Epoch 88/200\n",
            "244/244 - 1s - loss: 0.3663 - accuracy: 0.9116 - 1s/epoch - 4ms/step\n",
            "Epoch 89/200\n",
            "244/244 - 1s - loss: 0.3639 - accuracy: 0.9109 - 1s/epoch - 5ms/step\n",
            "Epoch 90/200\n",
            "244/244 - 1s - loss: 0.3736 - accuracy: 0.9095 - 1s/epoch - 4ms/step\n",
            "Epoch 91/200\n",
            "244/244 - 1s - loss: 0.3724 - accuracy: 0.9100 - 1s/epoch - 5ms/step\n",
            "Epoch 92/200\n",
            "244/244 - 1s - loss: 0.3608 - accuracy: 0.9103 - 1s/epoch - 4ms/step\n",
            "Epoch 93/200\n",
            "244/244 - 1s - loss: 0.3428 - accuracy: 0.9122 - 1s/epoch - 4ms/step\n",
            "Epoch 94/200\n",
            "244/244 - 1s - loss: 0.3380 - accuracy: 0.9150 - 1s/epoch - 4ms/step\n",
            "Epoch 95/200\n",
            "244/244 - 1s - loss: 0.3378 - accuracy: 0.9135 - 1s/epoch - 5ms/step\n",
            "Epoch 96/200\n",
            "244/244 - 1s - loss: 0.3350 - accuracy: 0.9127 - 1s/epoch - 4ms/step\n",
            "Epoch 97/200\n",
            "244/244 - 1s - loss: 0.3287 - accuracy: 0.9148 - 1s/epoch - 4ms/step\n",
            "Epoch 98/200\n",
            "244/244 - 1s - loss: 0.3293 - accuracy: 0.9132 - 1s/epoch - 4ms/step\n",
            "Epoch 99/200\n",
            "244/244 - 1s - loss: 0.3291 - accuracy: 0.9144 - 1s/epoch - 5ms/step\n",
            "Epoch 100/200\n",
            "244/244 - 1s - loss: 0.3271 - accuracy: 0.9152 - 1s/epoch - 4ms/step\n",
            "Epoch 101/200\n",
            "244/244 - 1s - loss: 0.3378 - accuracy: 0.9111 - 1s/epoch - 4ms/step\n",
            "Epoch 102/200\n",
            "244/244 - 1s - loss: 0.3839 - accuracy: 0.9045 - 1s/epoch - 5ms/step\n",
            "Epoch 103/200\n",
            "244/244 - 1s - loss: 0.3565 - accuracy: 0.9077 - 1s/epoch - 4ms/step\n",
            "Epoch 104/200\n",
            "244/244 - 1s - loss: 0.3309 - accuracy: 0.9130 - 1s/epoch - 4ms/step\n",
            "Epoch 105/200\n",
            "244/244 - 1s - loss: 0.3167 - accuracy: 0.9141 - 1s/epoch - 4ms/step\n",
            "Epoch 106/200\n",
            "244/244 - 1s - loss: 0.3099 - accuracy: 0.9146 - 1s/epoch - 4ms/step\n",
            "Epoch 107/200\n",
            "244/244 - 1s - loss: 0.3063 - accuracy: 0.9163 - 1s/epoch - 4ms/step\n",
            "Epoch 108/200\n",
            "244/244 - 1s - loss: 0.3060 - accuracy: 0.9164 - 1s/epoch - 5ms/step\n",
            "Epoch 109/200\n",
            "244/244 - 1s - loss: 0.3048 - accuracy: 0.9149 - 1s/epoch - 4ms/step\n",
            "Epoch 110/200\n",
            "244/244 - 1s - loss: 0.3043 - accuracy: 0.9155 - 1s/epoch - 4ms/step\n",
            "Epoch 111/200\n",
            "244/244 - 1s - loss: 0.3036 - accuracy: 0.9153 - 1s/epoch - 4ms/step\n",
            "Epoch 112/200\n",
            "244/244 - 1s - loss: 0.3016 - accuracy: 0.9150 - 1s/epoch - 4ms/step\n",
            "Epoch 113/200\n",
            "244/244 - 1s - loss: 0.3007 - accuracy: 0.9149 - 1s/epoch - 4ms/step\n",
            "Epoch 114/200\n",
            "244/244 - 1s - loss: 0.3016 - accuracy: 0.9146 - 1s/epoch - 4ms/step\n",
            "Epoch 115/200\n",
            "244/244 - 1s - loss: 0.3037 - accuracy: 0.9148 - 1s/epoch - 4ms/step\n",
            "Epoch 116/200\n",
            "244/244 - 1s - loss: 0.3084 - accuracy: 0.9121 - 1s/epoch - 4ms/step\n",
            "Epoch 117/200\n",
            "244/244 - 1s - loss: 0.3108 - accuracy: 0.9116 - 1s/epoch - 4ms/step\n",
            "Epoch 118/200\n",
            "244/244 - 1s - loss: 0.3114 - accuracy: 0.9135 - 1s/epoch - 4ms/step\n",
            "Epoch 119/200\n",
            "244/244 - 1s - loss: 0.3398 - accuracy: 0.9080 - 1s/epoch - 5ms/step\n",
            "Epoch 120/200\n",
            "244/244 - 1s - loss: 0.3506 - accuracy: 0.9067 - 1s/epoch - 4ms/step\n",
            "Epoch 121/200\n",
            "244/244 - 1s - loss: 0.3212 - accuracy: 0.9105 - 1s/epoch - 4ms/step\n",
            "Epoch 122/200\n",
            "244/244 - 1s - loss: 0.3086 - accuracy: 0.9125 - 1s/epoch - 4ms/step\n",
            "Epoch 123/200\n",
            "244/244 - 1s - loss: 0.3096 - accuracy: 0.9140 - 1s/epoch - 4ms/step\n",
            "Epoch 124/200\n",
            "244/244 - 1s - loss: 0.2940 - accuracy: 0.9148 - 1s/epoch - 5ms/step\n",
            "Epoch 125/200\n",
            "244/244 - 1s - loss: 0.2910 - accuracy: 0.9162 - 1s/epoch - 5ms/step\n",
            "Epoch 126/200\n",
            "244/244 - 1s - loss: 0.2906 - accuracy: 0.9157 - 1s/epoch - 4ms/step\n",
            "Epoch 127/200\n",
            "244/244 - 1s - loss: 0.2904 - accuracy: 0.9145 - 1s/epoch - 5ms/step\n",
            "Epoch 128/200\n",
            "244/244 - 1s - loss: 0.2913 - accuracy: 0.9152 - 1s/epoch - 4ms/step\n",
            "Epoch 129/200\n",
            "244/244 - 1s - loss: 0.2900 - accuracy: 0.9157 - 1s/epoch - 4ms/step\n",
            "Epoch 130/200\n",
            "244/244 - 1s - loss: 0.2903 - accuracy: 0.9143 - 1s/epoch - 4ms/step\n",
            "Epoch 131/200\n",
            "244/244 - 1s - loss: 0.2896 - accuracy: 0.9152 - 1s/epoch - 4ms/step\n",
            "Epoch 132/200\n",
            "244/244 - 1s - loss: 0.2891 - accuracy: 0.9153 - 1s/epoch - 4ms/step\n",
            "Epoch 133/200\n",
            "244/244 - 1s - loss: 0.2907 - accuracy: 0.9135 - 1s/epoch - 4ms/step\n",
            "Epoch 134/200\n",
            "244/244 - 1s - loss: 0.2893 - accuracy: 0.9138 - 1s/epoch - 4ms/step\n",
            "Epoch 135/200\n",
            "244/244 - 1s - loss: 0.2901 - accuracy: 0.9157 - 1s/epoch - 4ms/step\n",
            "Epoch 136/200\n",
            "244/244 - 1s - loss: 0.2896 - accuracy: 0.9158 - 1s/epoch - 4ms/step\n",
            "Epoch 137/200\n",
            "244/244 - 1s - loss: 0.3947 - accuracy: 0.8898 - 1s/epoch - 5ms/step\n",
            "Epoch 138/200\n",
            "244/244 - 1s - loss: 0.3654 - accuracy: 0.8986 - 1s/epoch - 4ms/step\n",
            "Epoch 139/200\n",
            "244/244 - 1s - loss: 0.3117 - accuracy: 0.9103 - 1s/epoch - 4ms/step\n",
            "Epoch 140/200\n",
            "244/244 - 1s - loss: 0.2904 - accuracy: 0.9150 - 1s/epoch - 4ms/step\n",
            "Epoch 141/200\n",
            "244/244 - 1s - loss: 0.2869 - accuracy: 0.9145 - 1s/epoch - 4ms/step\n",
            "Epoch 142/200\n",
            "244/244 - 1s - loss: 0.2847 - accuracy: 0.9166 - 1s/epoch - 4ms/step\n",
            "Epoch 143/200\n",
            "244/244 - 1s - loss: 0.2851 - accuracy: 0.9152 - 1s/epoch - 4ms/step\n",
            "Epoch 144/200\n",
            "244/244 - 1s - loss: 0.2844 - accuracy: 0.9167 - 1s/epoch - 4ms/step\n",
            "Epoch 145/200\n",
            "244/244 - 1s - loss: 0.2847 - accuracy: 0.9155 - 1s/epoch - 4ms/step\n",
            "Epoch 146/200\n",
            "244/244 - 1s - loss: 0.2886 - accuracy: 0.9146 - 1s/epoch - 5ms/step\n",
            "Epoch 147/200\n",
            "244/244 - 1s - loss: 0.2876 - accuracy: 0.9150 - 1s/epoch - 4ms/step\n",
            "Epoch 148/200\n",
            "244/244 - 1s - loss: 0.2866 - accuracy: 0.9148 - 1s/epoch - 4ms/step\n",
            "Epoch 149/200\n",
            "244/244 - 1s - loss: 0.2845 - accuracy: 0.9158 - 1s/epoch - 4ms/step\n",
            "Epoch 150/200\n",
            "244/244 - 1s - loss: 0.2840 - accuracy: 0.9146 - 1s/epoch - 4ms/step\n",
            "Epoch 151/200\n",
            "244/244 - 1s - loss: 0.2840 - accuracy: 0.9138 - 1s/epoch - 4ms/step\n",
            "Epoch 152/200\n",
            "244/244 - 1s - loss: 0.2850 - accuracy: 0.9135 - 1s/epoch - 4ms/step\n",
            "Epoch 153/200\n",
            "244/244 - 1s - loss: 0.2859 - accuracy: 0.9150 - 1s/epoch - 4ms/step\n",
            "Epoch 154/200\n",
            "244/244 - 1s - loss: 0.2858 - accuracy: 0.9150 - 1s/epoch - 4ms/step\n",
            "Epoch 155/200\n",
            "244/244 - 1s - loss: 0.2926 - accuracy: 0.9132 - 1s/epoch - 5ms/step\n",
            "Epoch 156/200\n",
            "244/244 - 1s - loss: 0.2942 - accuracy: 0.9148 - 1s/epoch - 4ms/step\n",
            "Epoch 157/200\n",
            "244/244 - 1s - loss: 0.2946 - accuracy: 0.9144 - 1s/epoch - 4ms/step\n",
            "Epoch 158/200\n",
            "244/244 - 1s - loss: 0.2938 - accuracy: 0.9131 - 1s/epoch - 4ms/step\n",
            "Epoch 159/200\n",
            "244/244 - 1s - loss: 0.2906 - accuracy: 0.9162 - 1s/epoch - 4ms/step\n",
            "Epoch 160/200\n",
            "244/244 - 1s - loss: 0.2869 - accuracy: 0.9158 - 1s/epoch - 4ms/step\n",
            "Epoch 161/200\n",
            "244/244 - 1s - loss: 0.2865 - accuracy: 0.9144 - 1s/epoch - 4ms/step\n",
            "Epoch 162/200\n",
            "244/244 - 1s - loss: 0.2842 - accuracy: 0.9149 - 1s/epoch - 4ms/step\n",
            "Epoch 163/200\n",
            "244/244 - 1s - loss: 0.2834 - accuracy: 0.9149 - 1s/epoch - 4ms/step\n",
            "Epoch 164/200\n",
            "244/244 - 1s - loss: 0.2838 - accuracy: 0.9146 - 1s/epoch - 4ms/step\n",
            "Epoch 165/200\n",
            "244/244 - 1s - loss: 0.2843 - accuracy: 0.9152 - 1s/epoch - 5ms/step\n",
            "Epoch 166/200\n",
            "244/244 - 1s - loss: 0.2837 - accuracy: 0.9163 - 1s/epoch - 5ms/step\n",
            "Epoch 167/200\n",
            "244/244 - 1s - loss: 0.2869 - accuracy: 0.9144 - 1s/epoch - 4ms/step\n",
            "Epoch 168/200\n",
            "244/244 - 1s - loss: 0.3011 - accuracy: 0.9103 - 1s/epoch - 4ms/step\n",
            "Epoch 169/200\n",
            "244/244 - 1s - loss: 0.3175 - accuracy: 0.9086 - 1s/epoch - 4ms/step\n",
            "Epoch 170/200\n",
            "244/244 - 1s - loss: 0.3038 - accuracy: 0.9105 - 1s/epoch - 4ms/step\n",
            "Epoch 171/200\n",
            "244/244 - 1s - loss: 0.2923 - accuracy: 0.9140 - 1s/epoch - 4ms/step\n",
            "Epoch 172/200\n",
            "244/244 - 1s - loss: 0.2840 - accuracy: 0.9153 - 1s/epoch - 4ms/step\n",
            "Epoch 173/200\n",
            "244/244 - 1s - loss: 0.2815 - accuracy: 0.9157 - 1s/epoch - 5ms/step\n",
            "Epoch 174/200\n",
            "244/244 - 1s - loss: 0.2788 - accuracy: 0.9144 - 1s/epoch - 5ms/step\n",
            "Epoch 175/200\n",
            "244/244 - 1s - loss: 0.2799 - accuracy: 0.9146 - 1s/epoch - 4ms/step\n",
            "Epoch 176/200\n",
            "244/244 - 1s - loss: 0.2784 - accuracy: 0.9145 - 1s/epoch - 5ms/step\n",
            "Epoch 177/200\n",
            "244/244 - 1s - loss: 0.2799 - accuracy: 0.9148 - 1s/epoch - 5ms/step\n",
            "Epoch 178/200\n",
            "244/244 - 1s - loss: 0.2789 - accuracy: 0.9171 - 1s/epoch - 5ms/step\n",
            "Epoch 179/200\n",
            "244/244 - 1s - loss: 0.2799 - accuracy: 0.9139 - 1s/epoch - 5ms/step\n",
            "Epoch 180/200\n",
            "244/244 - 1s - loss: 0.2848 - accuracy: 0.9146 - 1s/epoch - 5ms/step\n",
            "Epoch 181/200\n",
            "244/244 - 1s - loss: 0.2870 - accuracy: 0.9139 - 1s/epoch - 5ms/step\n",
            "Epoch 182/200\n",
            "244/244 - 1s - loss: 0.3142 - accuracy: 0.9076 - 1s/epoch - 5ms/step\n",
            "Epoch 183/200\n",
            "244/244 - 1s - loss: 0.3535 - accuracy: 0.9000 - 1s/epoch - 4ms/step\n",
            "Epoch 184/200\n",
            "244/244 - 1s - loss: 0.3072 - accuracy: 0.9099 - 1s/epoch - 5ms/step\n",
            "Epoch 185/200\n",
            "244/244 - 1s - loss: 0.2832 - accuracy: 0.9161 - 1s/epoch - 4ms/step\n",
            "Epoch 186/200\n",
            "244/244 - 1s - loss: 0.2799 - accuracy: 0.9157 - 1s/epoch - 5ms/step\n",
            "Epoch 187/200\n",
            "244/244 - 1s - loss: 0.2772 - accuracy: 0.9157 - 1s/epoch - 5ms/step\n",
            "Epoch 188/200\n",
            "244/244 - 1s - loss: 0.2791 - accuracy: 0.9146 - 1s/epoch - 4ms/step\n",
            "Epoch 189/200\n",
            "244/244 - 1s - loss: 0.2769 - accuracy: 0.9162 - 1s/epoch - 4ms/step\n",
            "Epoch 190/200\n",
            "244/244 - 1s - loss: 0.2779 - accuracy: 0.9140 - 1s/epoch - 4ms/step\n",
            "Epoch 191/200\n",
            "244/244 - 1s - loss: 0.2782 - accuracy: 0.9139 - 1s/epoch - 4ms/step\n",
            "Epoch 192/200\n",
            "244/244 - 1s - loss: 0.2781 - accuracy: 0.9143 - 1s/epoch - 4ms/step\n",
            "Epoch 193/200\n",
            "244/244 - 1s - loss: 0.2783 - accuracy: 0.9153 - 1s/epoch - 4ms/step\n",
            "Epoch 194/200\n",
            "244/244 - 1s - loss: 0.2780 - accuracy: 0.9144 - 1s/epoch - 4ms/step\n",
            "Epoch 195/200\n",
            "244/244 - 1s - loss: 0.2777 - accuracy: 0.9157 - 1s/epoch - 4ms/step\n",
            "Epoch 196/200\n",
            "244/244 - 1s - loss: 0.2790 - accuracy: 0.9155 - 1s/epoch - 4ms/step\n",
            "Epoch 197/200\n",
            "244/244 - 1s - loss: 0.2786 - accuracy: 0.9150 - 1s/epoch - 4ms/step\n",
            "Epoch 198/200\n",
            "244/244 - 1s - loss: 0.2804 - accuracy: 0.9155 - 1s/epoch - 4ms/step\n",
            "Epoch 199/200\n",
            "244/244 - 1s - loss: 0.2805 - accuracy: 0.9154 - 1s/epoch - 4ms/step\n",
            "Epoch 200/200\n",
            "244/244 - 1s - loss: 0.2845 - accuracy: 0.9136 - 1s/epoch - 4ms/step\n",
            "CPU times: user 4min 29s, sys: 29.5 s, total: 4min 59s\n",
            "Wall time: 3min 46s\n"
          ]
        }
      ]
    },
    {
      "cell_type": "code",
      "source": [
        "hist.history['accuracy'][-1]"
      ],
      "metadata": {
        "colab": {
          "base_uri": "https://localhost:8080/"
        },
        "id": "-gWj2XvBLlyU",
        "outputId": "6fe0aeb0-c8b1-48fb-b93e-9d9e29f14fae"
      },
      "execution_count": 22,
      "outputs": [
        {
          "output_type": "execute_result",
          "data": {
            "text/plain": [
              "0.9136229753494263"
            ]
          },
          "metadata": {},
          "execution_count": 22
        }
      ]
    },
    {
      "cell_type": "markdown",
      "source": [
        "- 모델 검증"
      ],
      "metadata": {
        "id": "fDN_jRrHLniH"
      }
    },
    {
      "cell_type": "code",
      "source": [
        "up = files.upload()"
      ],
      "metadata": {
        "colab": {
          "resources": {
            "http://localhost:8080/nbextensions/google.colab/files.js": {
              "data": "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",
              "ok": true,
              "headers": [
                [
                  "content-type",
                  "application/javascript"
                ]
              ],
              "status": 200,
              "status_text": ""
            }
          },
          "base_uri": "https://localhost:8080/",
          "height": 78
        },
        "id": "K2jCzOdRLoEs",
        "outputId": "fab3a30d-d766-49c3-bdf0-c5b1299ecd5a"
      },
      "execution_count": 23,
      "outputs": [
        {
          "output_type": "display_data",
          "data": {
            "text/html": [
              "\n",
              "     <input type=\"file\" id=\"files-48b2e73f-a156-46d2-851d-7d4d744dd3e4\" name=\"files[]\" multiple disabled\n",
              "        style=\"border:none\" />\n",
              "     <output id=\"result-48b2e73f-a156-46d2-851d-7d4d744dd3e4\">\n",
              "      Upload widget is only available when the cell has been executed in the\n",
              "      current browser session. Please rerun this cell to enable.\n",
              "      </output>\n",
              "      <script src=\"/nbextensions/google.colab/files.js\"></script> "
            ],
            "text/plain": [
              "<IPython.core.display.HTML object>"
            ]
          },
          "metadata": {}
        },
        {
          "output_type": "stream",
          "name": "stdout",
          "text": [
            "Saving my_util.py to my_util.py\n"
          ]
        }
      ]
    },
    {
      "cell_type": "code",
      "source": [
        "from my_util import sentence_generation"
      ],
      "metadata": {
        "id": "xNbSsXc9LqBX"
      },
      "execution_count": 24,
      "outputs": []
    },
    {
      "cell_type": "code",
      "source": [
        "print(sentence_generation(model, t, max_len, 'former', 10))\n",
        "print(sentence_generation(model, t, max_len, 'epa', 10))\n",
        "print(sentence_generation(model, t, max_len, 'how', 10))"
      ],
      "metadata": {
        "colab": {
          "base_uri": "https://localhost:8080/"
        },
        "id": "r-CZnY3hLrYN",
        "outputId": "005f3b20-a031-41fe-9dfb-ecb491b735e2"
      },
      "execution_count": 25,
      "outputs": [
        {
          "output_type": "stream",
          "name": "stdout",
          "text": [
            "former judge to review files seized in searches strike vs more\n",
            "epa to unveil a new rule its effect less science in\n",
            "how to make a crossword puzzle protest camp is wrapping no\n"
          ]
        }
      ]
    },
    {
      "cell_type": "markdown",
      "source": [
        "- 훈련과정 시각화"
      ],
      "metadata": {
        "id": "ZAM3zDB3LrzS"
      }
    },
    {
      "cell_type": "code",
      "source": [
        "y_acc = hist.history['accuracy']\n",
        "y_loss = hist.history['loss']\n",
        "xs = np.arange(1, len(y_acc)+1)"
      ],
      "metadata": {
        "id": "rtTlmUaRLuS6"
      },
      "execution_count": 26,
      "outputs": []
    },
    {
      "cell_type": "code",
      "source": [
        "import matplotlib.pyplot as plt\n",
        "plt.figure(figsize=(12,8))\n",
        "plt.plot(xs, y_acc, label='train accuracy')\n",
        "plt.plot(xs, y_loss, label='train loss')\n",
        "plt.legend(), plt.grid(), plt.ylim(0,1.1)\n",
        "plt.xlabel('Epoch')\n",
        "plt.show()"
      ],
      "metadata": {
        "colab": {
          "base_uri": "https://localhost:8080/",
          "height": 497
        },
        "id": "-5g8f_NqLvu1",
        "outputId": "ca0f651e-ae2c-4aad-c6e4-c6d0e205f6b8"
      },
      "execution_count": 27,
      "outputs": [
        {
          "output_type": "display_data",
          "data": {
            "image/png": "[encoded data removed]",
            "text/plain": [
              "<Figure size 864x576 with 1 Axes>"
            ]
          },
          "metadata": {
            "needs_background": "light"
          }
        }
      ]
    }
  ]
}